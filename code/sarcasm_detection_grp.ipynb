{
  "cells": [
    {
      "cell_type": "code",
      "execution_count": null,
      "metadata": {
        "id": "O9ga9zmbxgIP"
      },
      "outputs": [],
      "source": [
        "# Importing required libraries\n",
        "import json\n",
        "import tensorflow as tf\n",
        "import requests\n",
        "import numpy as np\n",
        "import pandas as pd\n",
        "import matplotlib.pyplot as plt\n",
        "from tensorflow.keras.preprocessing.text import Tokenizer\n",
        "from tensorflow.keras.preprocessing.sequence import pad_sequences"
      ]
    },
    {
      "cell_type": "code",
      "execution_count": null,
      "metadata": {
        "id": "-3Y_frtyxgIR",
        "outputId": "35ae11a2-ada1-48ee-a908-2bfe7dab5c40"
      },
      "outputs": [
        {
          "name": "stdout",
          "output_type": "stream",
          "text": [
            "[\r\n",
            "{\"article_link\": \"https://www.huffingtonpost.com/entry/versace-black-code_us_5861fbefe4b0de3a08f600d5\", \"headline\": \"former versace store clerk sues over secret 'black code' for minority shoppers\", \"is_sarcastic\": 0},\r\n",
            "{\"article_link\": \"https://www.huffingtonpost.com/entry/roseanne-revival-review_us_5ab3a497e4b054d118e04365\", \"headline\": \"the 'roseanne' revival catches up to our thorny political mood, for better and worse\", \"is_sarcastic\": 0},\n",
            "                                           senetence  label\n",
            "0  former versace store clerk sues over secret 'b...      0\n",
            "1  the 'roseanne' revival catches up to our thorn...      0\n",
            "2  mom starting to fear son's web series closest ...      1\n",
            "3  boehner just wants wife to listen, not come up...      1\n",
            "4  j.k. rowling wishes snape happy birthday in th...      0\n",
            "5                        advancing the world's women      0\n",
            "6     the fascinating case for eating lab-grown meat      0\n",
            "7  this ceo will send your kids to school, if you...      0\n",
            "8  top snake handler leaves sinking huckabee camp...      1\n",
            "9  friday's morning email: inside trump's presser...      0\n"
          ]
        }
      ],
      "source": [
        "# Get the dataset\n",
        "srcsm_json = requests.get('https://storage.googleapis.com/laurencemoroney-blog.appspot.com/sarcasm.json')\n",
        "\n",
        "# Inspecting the data\n",
        "print(srcsm_json.text[0:450])\n",
        "\n",
        "\n",
        "# Separate the json into sentences and labels\n",
        "sentences = []\n",
        "labels = []\n",
        "\n",
        "for item in srcsm_json.json():\n",
        "    sentences.append(item['headline'])\n",
        "    labels.append(item['is_sarcastic'])\n",
        "    \n",
        "\n",
        "print(pd.DataFrame({'senetence' : sentences[0:10], 'label':labels[0:10]}))\n"
      ]
    },
    {
      "cell_type": "code",
      "execution_count": null,
      "metadata": {
        "id": "HDT-buzvxgIS"
      },
      "outputs": [],
      "source": [
        "# Splitting the dataset into Train and Test\n",
        "training_size = round(len(sentences) * .75)\n",
        "\n",
        "training_sentences = sentences[0:training_size]\n",
        "testing_sentences = sentences[training_size:]\n",
        "training_labels = labels[0:training_size]\n",
        "testing_labels = labels[training_size:]\n",
        "\n",
        "\n",
        "# Setting tokenizer properties\n",
        "vocab_size = 10000\n",
        "oov_tok = \"<oov>\"\n",
        "\n",
        "# Fit the tokenizer on Training data\n",
        "tokenizer = Tokenizer(num_words=vocab_size, oov_token=oov_tok)\n",
        "tokenizer.fit_on_texts(training_sentences)\n",
        "\n",
        "word_index = tokenizer.word_index\n",
        "\n",
        "# Setting the padding properties\n",
        "max_length = 100\n",
        "trunc_type='post'\n",
        "padding_type='post'\n",
        "\n",
        "\n",
        "# Creating padded sequences from train and test data\n",
        "training_sequences = tokenizer.texts_to_sequences(training_sentences)\n",
        "training_padded = pad_sequences(training_sequences, maxlen=max_length, padding=padding_type, truncating=trunc_type)\n",
        "\n",
        "testing_sequences = tokenizer.texts_to_sequences(testing_sentences)\n",
        "testing_padded = pad_sequences(testing_sequences, maxlen=max_length, padding=padding_type, truncating=trunc_type)\n"
      ]
    },
    {
      "cell_type": "code",
      "execution_count": null,
      "metadata": {
        "id": "uiJ-7gtIxgIT",
        "outputId": "7646c872-4383-448f-9ce9-1419749b7e20"
      },
      "outputs": [
        {
          "name": "stdout",
          "output_type": "stream",
          "text": [
            "Model: \"sequential\"\n",
            "_________________________________________________________________\n",
            "Layer (type)                 Output Shape              Param #   \n",
            "=================================================================\n",
            "embedding (Embedding)        (None, 100, 16)           160000    \n",
            "_________________________________________________________________\n",
            "global_average_pooling1d (Gl (None, 16)                0         \n",
            "_________________________________________________________________\n",
            "dense (Dense)                (None, 24)                408       \n",
            "_________________________________________________________________\n",
            "dense_1 (Dense)              (None, 1)                 25        \n",
            "=================================================================\n",
            "Total params: 160,433\n",
            "Trainable params: 160,433\n",
            "Non-trainable params: 0\n",
            "_________________________________________________________________\n"
          ]
        }
      ],
      "source": [
        "# Setting the model\n",
        "embedding_dim = 16\n",
        "\n",
        "\n",
        "model = tf.keras.Sequential([\n",
        "    tf.keras.layers.Embedding(vocab_size, embedding_dim, input_length=max_length),\n",
        "    tf.keras.layers.GlobalAveragePooling1D(),\n",
        "    tf.keras.layers.Dense(24, activation='relu'),\n",
        "    tf.keras.layers.Dense(1, activation='sigmoid')\n",
        "])\n",
        "\n",
        "model.compile(loss='binary_crossentropy',optimizer='adam',metrics=['accuracy'])\n",
        "\n",
        "model.summary()"
      ]
    },
    {
      "cell_type": "code",
      "execution_count": null,
      "metadata": {
        "id": "_DnmNAKtxgIU",
        "outputId": "996fb5c4-8037-49e4-cd1f-56b804da7b2d"
      },
      "outputs": [
        {
          "name": "stdout",
          "output_type": "stream",
          "text": [
            "Train on 20032 samples, validate on 6677 samples\n",
            "Epoch 1/30\n",
            "20032/20032 - 2s - loss: 0.6659 - accuracy: 0.5918 - val_loss: 0.5930 - val_accuracy: 0.7499\n",
            "Epoch 2/30\n",
            "20032/20032 - 1s - loss: 0.4471 - accuracy: 0.8287 - val_loss: 0.3964 - val_accuracy: 0.8267\n",
            "Epoch 3/30\n",
            "20032/20032 - 1s - loss: 0.3204 - accuracy: 0.8732 - val_loss: 0.3569 - val_accuracy: 0.8483\n",
            "Epoch 4/30\n",
            "20032/20032 - 1s - loss: 0.2686 - accuracy: 0.8941 - val_loss: 0.3406 - val_accuracy: 0.8555\n",
            "Epoch 5/30\n",
            "20032/20032 - 1s - loss: 0.2338 - accuracy: 0.9081 - val_loss: 0.3417 - val_accuracy: 0.8519\n",
            "Epoch 6/30\n",
            "20032/20032 - 1s - loss: 0.2050 - accuracy: 0.9214 - val_loss: 0.3629 - val_accuracy: 0.8409\n",
            "Epoch 7/30\n",
            "20032/20032 - 1s - loss: 0.1838 - accuracy: 0.9300 - val_loss: 0.3613 - val_accuracy: 0.8538\n",
            "Epoch 8/30\n",
            "20032/20032 - 1s - loss: 0.1642 - accuracy: 0.9402 - val_loss: 0.3612 - val_accuracy: 0.8561\n",
            "Epoch 9/30\n",
            "20032/20032 - 1s - loss: 0.1485 - accuracy: 0.9460 - val_loss: 0.3774 - val_accuracy: 0.8520\n",
            "Epoch 10/30\n",
            "20032/20032 - 1s - loss: 0.1356 - accuracy: 0.9519 - val_loss: 0.3917 - val_accuracy: 0.8537\n",
            "Epoch 11/30\n",
            "20032/20032 - 1s - loss: 0.1230 - accuracy: 0.9571 - val_loss: 0.4108 - val_accuracy: 0.8522\n",
            "Epoch 12/30\n",
            "20032/20032 - 1s - loss: 0.1132 - accuracy: 0.9601 - val_loss: 0.4350 - val_accuracy: 0.8454\n",
            "Epoch 13/30\n",
            "20032/20032 - 1s - loss: 0.1038 - accuracy: 0.9637 - val_loss: 0.4600 - val_accuracy: 0.8420\n",
            "Epoch 14/30\n",
            "20032/20032 - 1s - loss: 0.0942 - accuracy: 0.9693 - val_loss: 0.4927 - val_accuracy: 0.8339\n",
            "Epoch 15/30\n",
            "20032/20032 - 1s - loss: 0.0874 - accuracy: 0.9709 - val_loss: 0.4996 - val_accuracy: 0.8429\n",
            "Epoch 16/30\n",
            "20032/20032 - 1s - loss: 0.0801 - accuracy: 0.9733 - val_loss: 0.5246 - val_accuracy: 0.8417\n",
            "Epoch 17/30\n",
            "20032/20032 - 1s - loss: 0.0746 - accuracy: 0.9744 - val_loss: 0.5508 - val_accuracy: 0.8405\n",
            "Epoch 18/30\n",
            "20032/20032 - 1s - loss: 0.0699 - accuracy: 0.9779 - val_loss: 0.5778 - val_accuracy: 0.8359\n",
            "Epoch 19/30\n",
            "20032/20032 - 1s - loss: 0.0647 - accuracy: 0.9794 - val_loss: 0.6067 - val_accuracy: 0.8339\n",
            "Epoch 20/30\n",
            "20032/20032 - 1s - loss: 0.0586 - accuracy: 0.9825 - val_loss: 0.6466 - val_accuracy: 0.8282\n",
            "Epoch 21/30\n",
            "20032/20032 - 1s - loss: 0.0547 - accuracy: 0.9839 - val_loss: 0.6689 - val_accuracy: 0.8288\n",
            "Epoch 22/30\n",
            "20032/20032 - 1s - loss: 0.0510 - accuracy: 0.9845 - val_loss: 0.7012 - val_accuracy: 0.8263\n",
            "Epoch 23/30\n",
            "20032/20032 - 1s - loss: 0.0471 - accuracy: 0.9862 - val_loss: 0.7216 - val_accuracy: 0.8278\n",
            "Epoch 24/30\n",
            "20032/20032 - 1s - loss: 0.0429 - accuracy: 0.9878 - val_loss: 0.7659 - val_accuracy: 0.8218\n",
            "Epoch 25/30\n",
            "20032/20032 - 1s - loss: 0.0401 - accuracy: 0.9882 - val_loss: 0.8016 - val_accuracy: 0.8204\n",
            "Epoch 26/30\n",
            "20032/20032 - 1s - loss: 0.0371 - accuracy: 0.9897 - val_loss: 0.8329 - val_accuracy: 0.8231\n",
            "Epoch 27/30\n",
            "20032/20032 - 1s - loss: 0.0337 - accuracy: 0.9915 - val_loss: 0.8520 - val_accuracy: 0.8206\n",
            "Epoch 28/30\n",
            "20032/20032 - 1s - loss: 0.0307 - accuracy: 0.9919 - val_loss: 0.8991 - val_accuracy: 0.8197\n",
            "Epoch 29/30\n",
            "20032/20032 - 1s - loss: 0.0299 - accuracy: 0.9921 - val_loss: 0.9361 - val_accuracy: 0.8185\n",
            "Epoch 30/30\n",
            "20032/20032 - 1s - loss: 0.0278 - accuracy: 0.9923 - val_loss: 0.9771 - val_accuracy: 0.8158\n"
          ]
        }
      ],
      "source": [
        "# Converting the lists to numpy arrays for Tensorflow 2.x\n",
        "training_padded = np.array(training_padded)\n",
        "training_labels = np.array(training_labels)\n",
        "testing_padded = np.array(testing_padded)\n",
        "testing_labels = np.array(testing_labels)\n",
        "\n",
        "\n",
        "# Training the model\n",
        "num_epochs = 30\n",
        "\n",
        "history = model.fit(training_padded, training_labels, epochs=num_epochs, validation_data=(testing_padded, testing_labels), verbose=2)"
      ]
    },
    {
      "cell_type": "code",
      "execution_count": null,
      "metadata": {
        "id": "qUNg3nglxgIV",
        "outputId": "b31cc61b-e49c-4388-c7e2-df8a70e413cf"
      },
      "outputs": [
        {
          "data": {
            "image/png": "[encoded data removed]",
            "text/plain": [
              "<Figure size 432x288 with 1 Axes>"
            ]
          },
          "metadata": {
            "needs_background": "light"
          },
          "output_type": "display_data"
        },
        {
          "data": {
            "image/png": "[encoded data removed]",
            "text/plain": [
              "<Figure size 432x288 with 1 Axes>"
            ]
          },
          "metadata": {
            "needs_background": "light"
          },
          "output_type": "display_data"
        }
      ],
      "source": [
        "def plot_graphs(history, string):\n",
        "    plt.plot(history.history[string])\n",
        "    plt.plot(history.history['val_'+string])\n",
        "    plt.xlabel(\"Epochs\")\n",
        "    plt.ylabel(string)\n",
        "    plt.legend([string, 'test_'+string])\n",
        "    plt.show()\n",
        "\n",
        "plot_graphs(history, \"accuracy\")\n",
        "plot_graphs(history, \"loss\")\n",
        "\n",
        "plt.show()"
      ]
    },
    {
      "cell_type": "code",
      "execution_count": null,
      "metadata": {
        "id": "4OZ0lOhXxgIW",
        "outputId": "6fbb4faa-91b4-4423-c9fa-908ebce0314d"
      },
      "outputs": [
        {
          "name": "stdout",
          "output_type": "stream",
          "text": [
            "[[0.99999726]\n",
            " [0.00993538]]\n"
          ]
        }
      ],
      "source": [
        "sentence = [\"Coworkers At Bathroom Sink Locked In Tense Standoff Over Who Going To Wash Hands Longer\", \n",
        "            \"Spiking U.S. coronavirus cases could force rationing decisions similar to those made in Italy, China.\"]\n",
        "sequences = tokenizer.texts_to_sequences(sentence)\n",
        "padded = pad_sequences(sequences, maxlen=max_length, padding=padding_type, truncating=trunc_type)\n",
        "print(model.predict(padded))"
      ]
    }
  ],
  "metadata": {
    "kernelspec": {
      "display_name": "Python 3",
      "language": "python",
      "name": "python3"
    },
    "language_info": {
      "codemirror_mode": {
        "name": "ipython",
        "version": 3
      },
      "file_extension": ".py",
      "mimetype": "text/x-python",
      "name": "python",
      "nbconvert_exporter": "python",
      "pygments_lexer": "ipython3",
      "version": "3.7.2"
    },
    "colab": {
      "name": "sarcasm_detection.ipynb",
      "provenance": []
    }
  },
  "nbformat": 4,
  "nbformat_minor": 0
}