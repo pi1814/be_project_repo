{
 "cells": [
  {
   "cell_type": "code",
   "execution_count": null,
   "metadata": {
    "colab": {},
    "colab_type": "code",
    "id": "zCfPcnweaQH2"
   },
   "outputs": [],
   "source": [
    "import pandas as pd\n",
    "from sklearn.feature_extraction.text import CountVectorizer\n",
    "from sklearn.model_selection import train_test_split, GridSearchCV\n",
    "from sklearn.linear_model import LinearRegression\n",
    "from sklearn.linear_model import LogisticRegression\n",
    "from sklearn.preprocessing import StandardScaler\n",
    "import re\n",
    "from nltk.corpus import stopwords\n",
    "from nltk.stem import WordNetLemmatizer\n",
    "from sklearn.utils import shuffle\n",
    "from sklearn.metrics import confusion_matrix,f1_score,precision_score,recall_score\n",
    "wordnet_lemmatizer = WordNetLemmatizer()"
   ]
  },
  {
   "cell_type": "code",
   "execution_count": 2,
   "metadata": {
    "colab": {},
    "colab_type": "code",
    "id": "0aQ86KWnad9v"
   },
   "outputs": [],
   "source": [
    "df = pd.read_csv('Tweets.csv')"
   ]
  },
  {
   "cell_type": "code",
   "execution_count": 3,
   "metadata": {
    "colab": {},
    "colab_type": "code",
    "id": "cVNyEfMEpqWs"
   },
   "outputs": [],
   "source": [
    "def normalizer(tweet):\n",
    "      only_letters = re.sub(\"[^a-zA-Z]\", \" \", tweet)\n",
    "      only_letters = only_letters.lower()\n",
    "      only_letters = only_letters.split()\n",
    "      filtered_result = [word for word in only_letters if word not in stopwords.words('english')]\n",
    "      lemmas = [wordnet_lemmatizer.lemmatize(t) for t in filtered_result]\n",
    "      lemmas = ' '.join(lemmas)\n",
    "      return lemmas"
   ]
  },
  {
   "cell_type": "code",
   "execution_count": 4,
   "metadata": {
    "colab": {},
    "colab_type": "code",
    "id": "4OlybFrgakHn"
   },
   "outputs": [],
   "source": [
    "df = shuffle(df)\n",
    "y = df['airline_sentiment']\n",
    "x = df.text.apply(normalizer)"
   ]
  },
  {
   "cell_type": "code",
   "execution_count": 5,
   "metadata": {
    "colab": {},
    "colab_type": "code",
    "id": "67S4ac0vcmsd"
   },
   "outputs": [],
   "source": [
    "vectorizer = CountVectorizer()\n",
    "x_vectorized = vectorizer.fit_transform(x)"
   ]
  },
  {
   "cell_type": "code",
   "execution_count": 6,
   "metadata": {
    "colab": {},
    "colab_type": "code",
    "id": "XG-2v96OejQk"
   },
   "outputs": [],
   "source": [
    "train_x,val_x,train_y,val_y = train_test_split(x_vectorized,y)"
   ]
  },
  {
   "cell_type": "code",
   "execution_count": 7,
   "metadata": {
    "colab": {},
    "colab_type": "code",
    "id": "kwvcVXp5eua1"
   },
   "outputs": [],
   "source": [
    "regressor = LogisticRegression(multi_class='multinomial', solver='newton-cg')\n",
    "model = regressor.fit(train_x, train_y)"
   ]
  },
  {
   "cell_type": "code",
   "execution_count": 8,
   "metadata": {
    "colab": {},
    "colab_type": "code",
    "id": "IOa3q3kwadJb"
   },
   "outputs": [],
   "source": [
    "params = {'C': [0.001, 0.01, 0.1, 1, 10, 100, 1000] }\n",
    "gs_clf = GridSearchCV(model, params, n_jobs=1, cv=5)\n",
    "gs_clf = gs_clf.fit(train_x, train_y)\n",
    "model = gs_clf.best_estimator_"
   ]
  },
  {
   "cell_type": "code",
   "execution_count": 9,
   "metadata": {
    "colab": {},
    "colab_type": "code",
    "id": "YbPOoMF9eZcv"
   },
   "outputs": [],
   "source": [
    "y_pred = model.predict(val_x)\n",
    "\n",
    "_f1 = f1_score(val_y, y_pred, average='micro')\n",
    "_confusion = confusion_matrix(val_y, y_pred)\n",
    "__precision = precision_score(val_y, y_pred, average='micro')\n",
    "_recall = recall_score(val_y, y_pred, average='micro')\n",
    "_statistics = {'f1_score': _f1,\n",
    "               'confusion_matrix': _confusion,\n",
    "               'precision': __precision,\n",
    "               'recall': _recall\n",
    "              }"
   ]
  },
  {
   "cell_type": "code",
   "execution_count": 10,
   "metadata": {
    "colab": {
     "base_uri": "https://localhost:8080/",
     "height": 70
    },
    "colab_type": "code",
    "id": "7p4_LYEkeqnU",
    "outputId": "3e746a79-b9c5-4e17-eb40-5ec0bcfd0056"
   },
   "outputs": [
    {
     "name": "stdout",
     "output_type": "stream",
     "text": [
      "{'f1_score': 0.7819672131147541, 'confusion_matrix': array([[2017,  221,   68],\n",
      "       [ 246,  417,   76],\n",
      "       [ 101,   86,  428]], dtype=int64), 'precision': 0.7819672131147541, 'recall': 0.7819672131147541}\n"
     ]
    }
   ],
   "source": [
    "print(_statistics)"
   ]
  },
  {
   "cell_type": "code",
   "execution_count": 11,
   "metadata": {
    "colab": {
     "base_uri": "https://localhost:8080/",
     "height": 34
    },
    "colab_type": "code",
    "id": "_qASV9QMfJbE",
    "outputId": "e13fc9c7-7768-4758-83f8-6eb90735a7d0"
   },
   "outputs": [
    {
     "data": {
      "text/plain": [
       "array(['negative'], dtype=object)"
      ]
     },
     "execution_count": 11,
     "metadata": {},
     "output_type": "execute_result"
    }
   ],
   "source": [
    "test_feature = vectorizer.transform(['this hurts every time'])\n",
    "model.predict(test_feature)"
   ]
  },
  {
   "cell_type": "code",
   "execution_count": 12,
   "metadata": {
    "colab": {
     "base_uri": "https://localhost:8080/",
     "height": 34
    },
    "colab_type": "code",
    "id": "4SOrIgInoqhg",
    "outputId": "86cb3d51-95b5-41fe-e0f5-a143a186ac90"
   },
   "outputs": [
    {
     "data": {
      "text/plain": [
       "array(['positive'], dtype=object)"
      ]
     },
     "execution_count": 12,
     "metadata": {},
     "output_type": "execute_result"
    }
   ],
   "source": [
    "test_feature = vectorizer.transform(['Person is very good'])\n",
    "model.predict(test_feature)"
   ]
  },
  {
   "cell_type": "code",
   "execution_count": 13,
   "metadata": {
    "colab": {
     "base_uri": "https://localhost:8080/",
     "height": 34
    },
    "colab_type": "code",
    "id": "uWdDxP4Lxs37",
    "outputId": "5396ea9a-b698-403a-87a9-509b8698c029"
   },
   "outputs": [
    {
     "data": {
      "text/plain": [
       "array(['neutral'], dtype=object)"
      ]
     },
     "execution_count": 13,
     "metadata": {},
     "output_type": "execute_result"
    }
   ],
   "source": [
    "test_feature = vectorizer.transform(['its okay'])\n",
    "model.predict(test_feature)"
   ]
  },
  {
   "cell_type": "code",
   "execution_count": 14,
   "metadata": {
    "colab": {},
    "colab_type": "code",
    "id": "XZHJbO7qqymW"
   },
   "outputs": [],
   "source": [
    "import pickle"
   ]
  },
  {
   "cell_type": "code",
   "execution_count": 15,
   "metadata": {
    "colab": {},
    "colab_type": "code",
    "id": "TJsGuKgErxWX"
   },
   "outputs": [],
   "source": [
    "pickl = {'vectorizer': vectorizer,\n",
    "         'model': model\n",
    "         }\n",
    "pickle.dump(pickl, open('models'+\".p\", \"wb\"))"
   ]
  },
  {
   "cell_type": "code",
   "execution_count": 16,
   "metadata": {
    "colab": {},
    "colab_type": "code",
    "id": "Wviph7W-m9zO"
   },
   "outputs": [],
   "source": [
    "pickle.dump(vectorizer, open(\"vector.pickel\", \"wb\"))"
   ]
  },
  {
   "cell_type": "code",
   "execution_count": null,
   "metadata": {},
   "outputs": [],
   "source": []
  },
  {
   "cell_type": "code",
   "execution_count": null,
   "metadata": {},
   "outputs": [],
   "source": []
  }
 ],
 "metadata": {
  "accelerator": "GPU",
  "colab": {
   "collapsed_sections": [],
   "name": "SentimentAnalysis.ipynb",
   "provenance": []
  },
  "kernelspec": {
   "display_name": "Python 3",
   "language": "python",
   "name": "python3"
  },
  "language_info": {
   "codemirror_mode": {
    "name": "ipython",
    "version": 3
   },
   "file_extension": ".py",
   "mimetype": "text/x-python",
   "name": "python",
   "nbconvert_exporter": "python",
   "pygments_lexer": "ipython3",
   "version": "3.8.4"
  }
 },
 "nbformat": 4,
 "nbformat_minor": 1
}
